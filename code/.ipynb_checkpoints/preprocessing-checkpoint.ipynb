{
 "cells": [
  {
   "cell_type": "markdown",
   "metadata": {},
   "source": [
    "# 1. img resize\n",
    "- 기본 size는 640 * 480\n",
    "- faceswap sw는 img size가 클수록 시간이 오래걸림\n",
    "- 권장사이즈는 64 * 64"
   ]
  },
  {
   "cell_type": "code",
   "execution_count": 1,
   "metadata": {},
   "outputs": [],
   "source": [
    "import os\n",
    "import glob\n",
    "from PIL import Image"
   ]
  },
  {
   "cell_type": "code",
   "execution_count": 8,
   "metadata": {},
   "outputs": [],
   "source": [
    "files=glob.glob('D:\\\\prlab\\\\ysg\\\\rppg\\\\RPPG-Deepfake_Detection\\\\deepfake_video\\\\origin_face\\\\*.png')\n",
    "\n",
    "for i,f in enumerate(files):\n",
    "    img=Image.open(f)\n",
    "    img_resize=img.resize((128,128))\n",
    "    img_resize.save(\"D:\\\\prlab\\\\ysg\\\\rppg\\\\RPPG-Deepfake_Detection\\\\deepfake_video\\\\origin_resize\\\\\"+str(i)+\".png\")"
   ]
  },
  {
   "cell_type": "markdown",
   "metadata": {},
   "source": [
    "# 1. videio resize"
   ]
  },
  {
   "cell_type": "code",
   "execution_count": 18,
   "metadata": {},
   "outputs": [
    {
     "name": "stdout",
     "output_type": "stream",
     "text": [
      "[video 시작]\n",
      "no frame\n"
     ]
    }
   ],
   "source": [
    "# 필요한 패키지 import\n",
    "import imutils # 파이썬 OpenCV가 제공하는 기능 중 복잡하고 사용성이 떨어지는 부분을 보완(이미지 또는 비디오 스트림 파일 처리 등)\n",
    "import cv2 # opencv 모듈\n",
    "\n",
    "!cd D:\\\\prlab\\\\ysg\\\\rppg\\\\RPPG-Deepfake_Detection\\\\deepfake_video\n",
    "# 비디오 파일\n",
    "video = \"D:\\\\prlab\\\\ysg\\\\rppg\\\\RPPG-Deepfake_Detection\\\\deepfake_video\\\\target.mp4\" # \"\" 일 경우 webcam 사용\n",
    "\n",
    "# 저장할 비디오 파일 경로 및 이름\n",
    "result_path = \"D:\\\\prlab\\\\ysg\\\\rppg\\\\RPPG-Deepfake_Detection\\\\deepfake_video\\\\target_resize.avi\"\n",
    "\n",
    "# 비디오 경로가 제공되지 않은 경우 webcam 사용\n",
    "if video == \"\":\n",
    "    print(\"[webcam 시작]\")\n",
    "    vs = cv2.VideoCapture(0)\n",
    "\n",
    "# 비디오 경로가 제공된 경우 video 사용\n",
    "else:\n",
    "    print(\"[video 시작]\")\n",
    "    vs = cv2.VideoCapture(video)\n",
    "\n",
    "# 비디오 저장 변수\n",
    "writer = None\n",
    "fps = vs.get(cv2.CAP_PROP_FPS)\n",
    "# 비디오 스트림 프레임 반복\n",
    "while True:\n",
    "    # 프레임 읽기\n",
    "    ret, frame = vs.read()\n",
    "\n",
    "    # 읽은 프레임이 없는 경우 종료\n",
    "    if frame is None:\n",
    "        print(\"no frame\")\n",
    "        break\n",
    "\n",
    "    # 프레임 resize\n",
    "    frame = imutils.resize(frame, width=128,height=128)\n",
    "\n",
    "    # 프레임 출력\n",
    "    cv2.imshow(\"frame\", frame)\n",
    "    \n",
    "    # 'q' 키를 입력하면 종료\n",
    "    key = cv2.waitKey(1) & 0xFF\n",
    "    if key == ord(\"q\"):\n",
    "        break\n",
    "                                    \n",
    "    # 저장할 비디오 설정\n",
    "    if writer is None:\n",
    "        fourcc = cv2.VideoWriter_fourcc(*\"DIVX\")\n",
    "        writer = cv2.VideoWriter(result_path, fourcc, fps, (frame.shape[1], frame.shape[0]), True)\n",
    "\n",
    "    # 비디오 저장\n",
    "    if writer is not None:\n",
    "        writer.write(frame)\n",
    "\n",
    "# 종료\n",
    "vs.release()\n",
    "cv2.destroyAllWindows()"
   ]
  }
 ],
 "metadata": {
  "kernelspec": {
   "display_name": "hrv",
   "language": "python",
   "name": "hrv"
  },
  "language_info": {
   "codemirror_mode": {
    "name": "ipython",
    "version": 3
   },
   "file_extension": ".py",
   "mimetype": "text/x-python",
   "name": "python",
   "nbconvert_exporter": "python",
   "pygments_lexer": "ipython3",
   "version": "3.8.0"
  }
 },
 "nbformat": 4,
 "nbformat_minor": 4
}
